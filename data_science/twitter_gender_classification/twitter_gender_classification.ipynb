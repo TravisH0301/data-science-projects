{
  "nbformat": 4,
  "nbformat_minor": 0,
  "metadata": {
    "accelerator": "GPU",
    "colab": {
      "name": "twitter_gender_classification.ipynb",
      "provenance": [],
      "collapsed_sections": [],
      "toc_visible": true
    },
    "kernelspec": {
      "display_name": "Python 3",
      "language": "python",
      "name": "python3"
    },
    "language_info": {
      "codemirror_mode": {
        "name": "ipython",
        "version": 3
      },
      "file_extension": ".py",
      "mimetype": "text/x-python",
      "name": "python",
      "nbconvert_exporter": "python",
      "pygments_lexer": "ipython3",
      "version": "3.7.4"
    }
  },
  "cells": [
    {
      "cell_type": "markdown",
      "metadata": {
        "colab_type": "text",
        "id": "zqC_vxyvhurR"
      },
      "source": [
        "# Twitter Gender Classification\n",
        "\n",
        "For this project, twitter author gender classifiers are built using statistical models. 3600 Twitter posts are used to train and validate models and additional 500 posts are used for final classification using the models with superior performances. \n",
        "\n",
        "Prior to modelling the datasets are firstly pre-processed and features are generated using TF-IDF vectoriser. Then, five classifiers of Logistic Regression, Bernoulli Naive Bayes, Linear SVC, Random Forest and XGBoost are compared using cross validation. The top three models of Logistic Regression, Linear SVC and XGBoost are selected to be tuned.\n",
        "\n",
        "And these optimised models are then used to make classification on the 500 test Twitter posts."
      ]
    },
    {
      "cell_type": "markdown",
      "metadata": {
        "colab_type": "text",
        "id": "9sUjFhQg1g7x"
      },
      "source": [
        "# Table of Contents\n",
        "\n",
        "- [Import Libraries](#1)\n",
        "- [Loading Datasets](#2)\n",
        "- [Pre-processing Datasets](#3)\n",
        "- [Statistical Models](#4)\n",
        "    - [Pre-processing](#4.1)\n",
        "    - [Top Words from Tweets](#4.2)\n",
        "    - [Building Models](#4.3)\n",
        "    - [Ensemble Statistical Models](#4.4)\n",
        "    - [Vectoriser Tuning](#4.5)\n",
        "    - [Hyperparameter Tuning - Logistic Regression](#4.6)\n",
        "    - [Hyperparameter Tuning - Linear SVC](#4.7)\n",
        "    - [Hyperparameter Tuning - XGBoost](#4.8)\n",
        "- [Making Final Prediction](#5)\n",
        "    - [Pre-processing Test Dataset](#5.1)\n",
        "    - [Linear SVC Model](#5.2)\n",
        "    - [Logistic Regression Model](#5.3)\n",
        "    - [XGBoost Model](#5.4)\n"
      ]
    },
    {
      "cell_type": "markdown",
      "metadata": {
        "colab_type": "text",
        "id": "7aqBVuNmrR8S"
      },
      "source": [
        "<a name=1></a>\n",
        "## Import Libraries"
      ]
    },
    {
      "cell_type": "code",
      "metadata": {
        "colab_type": "code",
        "id": "U21_KIJdrZgi",
        "colab": {
          "base_uri": "https://localhost:8080/",
          "height": 120
        },
        "outputId": "e83a9201-cd75-4e52-e105-820ed853b40f"
      },
      "source": [
        "# Import libraries\n",
        "import zipfile as zf\n",
        "import pandas as pd\n",
        "import xml.etree.ElementTree as ET\n",
        "import numpy as np\n",
        "import re\n",
        "import seaborn as sns\n",
        "import random, math\n",
        "import matplotlib.pyplot as plt\n",
        "from sklearn.pipeline import make_pipeline\n",
        "from sklearn.model_selection import train_test_split\n",
        "from keras.preprocessing import text, sequence\n",
        "from keras import layers, models, optimizers\n",
        "from sklearn import model_selection, preprocessing, linear_model, naive_bayes, metrics, svm\n",
        "from sklearn.feature_extraction.text import TfidfVectorizer, CountVectorizer\n",
        "from sklearn import decomposition, ensemble\n",
        "from nltk.tokenize import TweetTokenizer\n",
        "from nltk.corpus import stopwords\n",
        "from nltk import word_tokenize    \n",
        "from nltk.tokenize import wordpunct_tokenize\n",
        "from nltk.stem import WordNetLemmatizer\n",
        "from sklearn.feature_extraction.text import TfidfVectorizer\n",
        "from sklearn.metrics import precision_score, recall_score, f1_score, accuracy_score, confusion_matrix, matthews_corrcoef\n",
        "from sklearn.linear_model import LogisticRegression\n",
        "from sklearn.naive_bayes import MultinomialNB, GaussianNB,BernoulliNB\n",
        "from sklearn.svm import LinearSVC, SVC\n",
        "from sklearn.ensemble import RandomForestClassifier\n",
        "from sklearn.model_selection import cross_val_score\n",
        "import xgboost\n",
        "from sklearn  import metrics\n",
        "from sklearn import svm\n",
        "import xgboost as xgb\n",
        "from xgboost.sklearn import XGBClassifier\n",
        "from sklearn.model_selection import cross_val_score\n",
        "from sklearn.model_selection import GridSearchCV\n",
        "from sklearn.feature_extraction import stop_words"
      ],
      "execution_count": null,
      "outputs": [
        {
          "output_type": "stream",
          "text": [
            "/usr/local/lib/python3.6/dist-packages/statsmodels/tools/_testing.py:19: FutureWarning: pandas.util.testing is deprecated. Use the functions in the public API at pandas.testing instead.\n",
            "  import pandas.util.testing as tm\n",
            "Using TensorFlow backend.\n",
            "/usr/local/lib/python3.6/dist-packages/sklearn/utils/deprecation.py:144: FutureWarning: The sklearn.feature_extraction.stop_words module is  deprecated in version 0.22 and will be removed in version 0.24. The corresponding classes / functions should instead be imported from sklearn.feature_extraction.text. Anything that cannot be imported from sklearn.feature_extraction.text is now part of the private API.\n",
            "  warnings.warn(message, FutureWarning)\n"
          ],
          "name": "stderr"
        }
      ]
    },
    {
      "cell_type": "code",
      "metadata": {
        "colab_type": "code",
        "id": "737inaD2qQmA",
        "colab": {
          "base_uri": "https://localhost:8080/",
          "height": 100
        },
        "outputId": "88377bdd-2914-43b6-f740-35abc1fab3c4"
      },
      "source": [
        "# Install nltk packages\n",
        "import nltk\n",
        "nltk.download('stopwords')\n",
        "nltk.download('wordnet')"
      ],
      "execution_count": null,
      "outputs": [
        {
          "output_type": "stream",
          "text": [
            "[nltk_data] Downloading package stopwords to /root/nltk_data...\n",
            "[nltk_data]   Unzipping corpora/stopwords.zip.\n",
            "[nltk_data] Downloading package wordnet to /root/nltk_data...\n",
            "[nltk_data]   Unzipping corpora/wordnet.zip.\n"
          ],
          "name": "stdout"
        },
        {
          "output_type": "execute_result",
          "data": {
            "text/plain": [
              "True"
            ]
          },
          "metadata": {
            "tags": []
          },
          "execution_count": 14
        }
      ]
    },
    {
      "cell_type": "code",
      "metadata": {
        "colab_type": "code",
        "id": "0FhlmoSe6rMA",
        "scrolled": false,
        "colab": {}
      },
      "source": [
        "# Install BERT\n",
        "#!pip install bert-for-tf2\n",
        "#!pip install sentencepiece"
      ],
      "execution_count": null,
      "outputs": []
    },
    {
      "cell_type": "code",
      "metadata": {
        "colab_type": "code",
        "id": "tf-gGIcw80ll",
        "colab": {}
      },
      "source": [
        "# Import tensorflow and BERT\n",
        "#try:\n",
        "#    %tensorflow_version 2.x\n",
        "#except Exception:\n",
        "#    pass\n",
        "#import tensorflow as tf\n",
        "#\n",
        "#import tensorflow_hub as hub\n",
        "#\n",
        "#from tensorflow.keras import layers\n",
        "#import bert"
      ],
      "execution_count": null,
      "outputs": []
    },
    {
      "cell_type": "markdown",
      "metadata": {
        "colab_type": "text",
        "id": "2U8EEd4OoXxr"
      },
      "source": [
        "<a name=2></a>\n",
        "## Loading Datasets"
      ]
    },
    {
      "cell_type": "code",
      "metadata": {
        "colab_type": "code",
        "id": "ulPg5VaboSjS",
        "colab": {}
      },
      "source": [
        "# Extract data from zip file\n",
        "files = zf.ZipFile(\"data.zip\", 'r')\n",
        "files.extractall('./')\n",
        "files.close()"
      ],
      "execution_count": null,
      "outputs": []
    },
    {
      "cell_type": "code",
      "metadata": {
        "colab_type": "code",
        "id": "50pq1zu6oSjZ",
        "scrolled": true,
        "colab": {
          "base_uri": "https://localhost:8080/",
          "height": 100
        },
        "outputId": "1cd58a11-f8c0-4ec1-fcc6-b83bcff72e67"
      },
      "source": [
        "# Read csv\n",
        "train = pd.read_csv('train_labels.csv')\n",
        "test = pd.read_csv('test.csv')\n",
        "\n",
        "# Convert id to list\n",
        "trainId = train['id'].tolist()\n",
        "\n",
        "# inspect id\n",
        "trainId[:5]"
      ],
      "execution_count": null,
      "outputs": [
        {
          "output_type": "execute_result",
          "data": {
            "text/plain": [
              "['d7d392835f50664fc079f0f388e147a0',\n",
              " 'ee40b86368137b86f51806c9f105b34b',\n",
              " '919bc742d9a22d65eab1f52b11656cab',\n",
              " '15b97a08d65f22d97ca685686510b6ae',\n",
              " 'affa98421ef5c46ca7c8f246e0a134c1']"
            ]
          },
          "metadata": {
            "tags": []
          },
          "execution_count": 7
        }
      ]
    },
    {
      "cell_type": "code",
      "metadata": {
        "colab_type": "code",
        "id": "IafZmBT-oSjc",
        "scrolled": true,
        "colab": {
          "base_uri": "https://localhost:8080/",
          "height": 50
        },
        "outputId": "a65355b0-b974-4ca6-a39d-b18ef7a2c580"
      },
      "source": [
        "# xml parsing \n",
        "# Parse xml\n",
        "def parseXML(trainId):\n",
        "    content = []\n",
        "    \n",
        "    # Encoding utf-8\n",
        "    xmlp = ET.XMLParser(encoding='utf-8') \n",
        "    # Append .xml to make filename\n",
        "    xml = trainId +'.xml'\n",
        "    # It depends on your data location\n",
        "    mytree = ET.parse('./data/'+xml,parser=xmlp)\n",
        "    # Find root\n",
        "    myroot = mytree.getroot()\n",
        "\n",
        "    for x in myroot[0]:\n",
        "        content.append(x.text)\n",
        "    \n",
        "    return content\n",
        "\n",
        "# Save each document into list\n",
        "documents = []\n",
        "\n",
        "for trainid in trainId:\n",
        "    content = parseXML(trainid)\n",
        "    documents.append(' '.join(content))\n",
        "\n",
        "# Create new column for document\n",
        "train['documents'] = documents\n",
        "\n",
        "# Inspect the number of documents is matched with trainId length\n",
        "print(len(documents))\n",
        "print(len(trainId))"
      ],
      "execution_count": null,
      "outputs": [
        {
          "output_type": "stream",
          "text": [
            "3100\n",
            "3100\n"
          ],
          "name": "stdout"
        }
      ]
    },
    {
      "cell_type": "markdown",
      "metadata": {
        "colab_type": "text",
        "id": "v-YzOY6aoSjf"
      },
      "source": [
        "<a name=3></a>\n",
        "## Pre-processing Datasets"
      ]
    },
    {
      "cell_type": "code",
      "metadata": {
        "id": "lq5IAq83mQSp",
        "colab_type": "code",
        "colab": {}
      },
      "source": [
        "np.random.seed(0)"
      ],
      "execution_count": null,
      "outputs": []
    },
    {
      "cell_type": "code",
      "metadata": {
        "colab_type": "code",
        "id": "RnJa5-G3oSji",
        "colab": {}
      },
      "source": [
        "# Find the number of mentions\n",
        "train['mentions'] = train['documents'].map(lambda x: len(re.findall(r'@\\w+',x)))\n",
        "# Find the number of hashtags\n",
        "train['hashtag'] = train['documents'].map(lambda x: len(re.findall(r'#\\w+',x)))\n",
        "# Find the number of emojis (not accurate)\n",
        "train['emoji'] = train['documents'].map(lambda x: len(re.findall('[\\U00010000-\\U0010ffff]', x, flags=re.UNICODE)))\n",
        "\n",
        "# First preprocessing\n",
        "train['documents_firstPre'] = train['documents']\n",
        "# Convert to lowercase\n",
        "train['documents_firstPre'] = train['documents_firstPre'].map(lambda x: x.lower())\n",
        "# Remove https\n",
        "train['documents_firstPre'] = train['documents_firstPre'].map(lambda x: re.sub(r'http\\S+','',x))\n",
        "# Convert encoding of apostrophs\n",
        "train['documents_firstPre'] = train['documents_firstPre'].map(lambda x: re.sub(r'’',\"'\",x))\n",
        "# Convert double quotes to single quotes\n",
        "train['documents_firstPre'] = train['documents_firstPre'].map(lambda x: re.sub(r'\"',\"'\",x))\n",
        "# Expand apostrophes contraction (ex. he's > he is)\n",
        "contract = ['can\\'t','doesn\\'t','don\\'t','didn\\'t','isn\\'t','aren\\'t','won\\'t','wasn\\'t','weren\\'t','gonna','hasn\\'t','haven\\'t',\\\n",
        "            'hadn\\'t','they\\'ll','they\\'ve','he\\'ll','she\\'ll','i\\'m','i\\'ll','i\\'ve','we\\'ll','we\\'ve',\\\n",
        "            'i\\'d','he\\'d','she\\'d','they\\'d','we\\'d','it\\'d']\n",
        "expand = ['can not','does not','do not','did not','is not','are not','will not','was not','were not','going to','has not','have not',\\\n",
        "          'had not','they will','they have','he will','she will','i am','i will','i have','we will','we have',\\\n",
        "          'i would','he would','she would','they would','we would','it would']\n",
        "apo_dic = dict(zip(contract,expand))\n",
        "train['documents_firstPre'] = train['documents_firstPre'].map(lambda x: x.split())\n",
        "train['documents_firstPre'] = train['documents_firstPre'].map(lambda x: \\\n",
        "                        [apo_dic[word] if '{}'.format(word)  in apo_dic else '{}'.format(word) for word in x])\n",
        "train['documents_firstPre'] = train['documents_firstPre'].map(lambda x: ' '.join(x))\n",
        "# Convert emoji to text\n",
        "emoji_li = list()\n",
        "text_li = list()\n",
        "for sen in train['documents_firstPre']:\n",
        "    for word in sen:\n",
        "        try:\n",
        "            # If emoji, add emoji and its meaning to lists\n",
        "            if UNICODE_EMOJI[word]: \n",
        "                emoji_li.append(word)\n",
        "                text_li.append(UNICODE_EMOJI[word])\n",
        "        except:\n",
        "            pass\n",
        "emoji_dict = dict(zip(emoji_li, text_li))\n",
        "#train['documents_firstPre'] = train['documents_firstPre'].map(lambda x: \\\n",
        "#                [emoji_dict[word] if word in emoji_dict else word for word in x])\n",
        "#train['documents_firstPre'] = train['documents_firstPre'].map(lambda x: \"\".join(x))\n",
        "# Remove mentions\n",
        "train['documents_firstPre'] = train['documents_firstPre'].map(lambda x: re.sub(r'@\\w+','',x))\n",
        "# Remove hashtags\n",
        "train['documents_firstPre'] = train['documents_firstPre'].map(lambda x: re.sub(r'#\\w+','',x))\n",
        "# Remove punctuations and numbers\n",
        "train['documents_firstPre'] = train['documents_firstPre'].map(lambda x: re.sub('[^a-zA-Z]',' ',x))\n",
        "# Remove single character\n",
        "train['documents_firstPre'] = train['documents_firstPre'].map(lambda x: re.sub(r\"\\s+[a-zA-Z]\\s+\",' ',x))\n",
        "# Remove untransformed emoji\n",
        "train['documents_firstPre'] = train['documents_firstPre'].map(lambda x: re.sub('[\\U00010000-\\U0010ffff]', '', x))\n",
        "# Remove new line characters\n",
        "train['documents_firstPre'] = train['documents_firstPre'].map(lambda x:re.sub('\\s+', ' ',x))\n",
        "\n",
        "# Convert to list\n",
        "firstDocument = train['documents_firstPre'].tolist()\n",
        "# Copy dataframe\n",
        "df_train = train.copy()"
      ],
      "execution_count": null,
      "outputs": []
    },
    {
      "cell_type": "markdown",
      "metadata": {
        "colab_type": "text",
        "id": "R8iOZSxF_cmr"
      },
      "source": [
        "<a name=4></a>\n",
        "## Statistical Models\n",
        "\n"
      ]
    },
    {
      "cell_type": "markdown",
      "metadata": {
        "colab_type": "text",
        "id": "hiOkbrmOGzG9"
      },
      "source": [
        "<a name=4.1></a>\n",
        "### Pre-processing"
      ]
    },
    {
      "cell_type": "code",
      "metadata": {
        "colab_type": "code",
        "id": "qzHTQWF5Y28Q",
        "colab": {}
      },
      "source": [
        "# Retrieve list of tweets and genders \n",
        "trainDocs = train.documents_firstPre.tolist()  # pre-processed\n",
        "gender = train.gender.tolist()"
      ],
      "execution_count": null,
      "outputs": []
    },
    {
      "cell_type": "code",
      "metadata": {
        "colab_type": "code",
        "id": "DtIQ3UQPY28S",
        "colab": {}
      },
      "source": [
        "# Get the stop words list from nltk.corpus\n",
        "addition = ['amp','just','like','wa','ha']\n",
        "stop = list(stopwords.words('english'))\n",
        "stop_sk = list(stop_words.ENGLISH_STOP_WORDS)\n",
        "stop_sk = stop_sk + addition + stop\n",
        "\n",
        "\n",
        "# Define tweet_tokenizer\n",
        "tweet_tokenizer = TweetTokenizer()\n",
        "\n",
        "# Define LemmaTokenizer to help vectorize the text\n",
        "class LemmaTokenizer(object):\n",
        "    def __init__(self):\n",
        "        self.wnl=WordNetLemmatizer()\n",
        "    def __call__(self,doc):\n",
        "        return [self.wnl.lemmatize(t) for t in tweet_tokenizer.tokenize(doc)]"
      ],
      "execution_count": null,
      "outputs": []
    },
    {
      "cell_type": "code",
      "metadata": {
        "colab_type": "code",
        "id": "JDYGsXYrY28U",
        "colab": {}
      },
      "source": [
        "# Define function to show top frequent words\n",
        "def get_top_n_words(corpus, n=None):\n",
        "    vec = TfidfVectorizer(\n",
        "        analyzer='word',input='content',\n",
        "        lowercase=True, # convert to lowercase\n",
        "        token_pattern='(?u)\\\\b\\\\w\\\\w+\\\\b',\n",
        "        min_df=3,\n",
        "        ngram_range=(1,3),\n",
        "        tokenizer=LemmaTokenizer(), \n",
        "        stop_words = set(stop_sk)\n",
        "    ).fit(corpus)\n",
        "    bag_of_words = vec.transform(corpus)\n",
        "    sum_words = bag_of_words.sum(axis=0) \n",
        "    words_freq = [(word, sum_words[0, idx]) for word, idx in vec.vocabulary_.items()]\n",
        "    words_freq =sorted(words_freq, key = lambda x: x[1], reverse=True)\n",
        "    return words_freq[:n]"
      ],
      "execution_count": null,
      "outputs": []
    },
    {
      "cell_type": "code",
      "metadata": {
        "colab_type": "code",
        "id": "Ls-2PWjdiuXv",
        "colab": {}
      },
      "source": [
        "# Split training data into train and test sets\n",
        "seed = 7\n",
        "test_size = 0.2\n",
        "x_train, x_valid, y_train, y_valid = train_test_split(trainDocs,gender, test_size=test_size, random_state=seed)"
      ],
      "execution_count": null,
      "outputs": []
    },
    {
      "cell_type": "markdown",
      "metadata": {
        "colab_type": "text",
        "id": "PlH1pWOXuPNe"
      },
      "source": [
        "<a name=4.2></a>\n",
        "### Top Words from Tweets"
      ]
    },
    {
      "cell_type": "code",
      "metadata": {
        "colab_type": "code",
        "id": "qTPFOFQ2Y28Z",
        "scrolled": false,
        "colab": {
          "base_uri": "https://localhost:8080/",
          "height": 538
        },
        "outputId": "e7a5674d-3a9a-42c0-d9c9-86ecbf716c39"
      },
      "source": [
        "# Top 40 words from both genders\n",
        "both_top_words = get_top_n_words(trainDocs, 40)\n",
        "\n",
        "# Plot top words\n",
        "fig = plt.figure(figsize=(18,6))\n",
        "df_topwords = pd.DataFrame(both_top_words, columns = ['word','freq'])\n",
        "sns.barplot(x=df_topwords.word, y=df_topwords.freq)\n",
        "plt.title('Most Common Words used from Male & Female')\n",
        "plt.xticks(rotation=45)\n",
        "plt.show()"
      ],
      "execution_count": null,
      "outputs": [
        {
          "output_type": "stream",
          "text": [
            "/Users/jay/opt/anaconda3/lib/python3.7/site-packages/sklearn/feature_extraction/text.py:300: UserWarning: Your stop_words may be inconsistent with your preprocessing. Tokenizing the stop words generated tokens ['doe', 'le'] not in stop_words.\n",
            "  'stop_words.' % sorted(inconsistent))\n"
          ],
          "name": "stderr"
        },
        {
          "output_type": "display_data",
          "data": {
            "image/png": "[encoded data removed]",
            "text/plain": [
              "<Figure size 1296x432 with 1 Axes>"
            ]
          },
          "metadata": {
            "tags": [],
            "needs_background": "light"
          }
        }
      ]
    },
    {
      "cell_type": "code",
      "metadata": {
        "colab_type": "code",
        "id": "ckPf4p7YY28b",
        "colab": {}
      },
      "source": [
        "# Divide training dataset by gender\n",
        "df_doc_gender = pd.DataFrame({'doc':trainDocs, 'gender':gender})\n",
        "df_doc_male = df_doc_gender.loc[df_doc_gender.gender == 'male']\n",
        "df_doc_female = df_doc_gender.loc[df_doc_gender.gender == 'female']"
      ],
      "execution_count": null,
      "outputs": []
    },
    {
      "cell_type": "code",
      "metadata": {
        "colab_type": "code",
        "id": "sd6i4-IKY28d",
        "colab": {
          "base_uri": "https://localhost:8080/",
          "height": 532
        },
        "outputId": "5c866fae-a22f-40a6-8324-b3c9d350ad51"
      },
      "source": [
        "# Top 40 words from male\n",
        "male_top_words = get_top_n_words(df_doc_male.doc, 40)\n",
        "\n",
        "# Plot top words\n",
        "fig = plt.figure(figsize=(18,6))\n",
        "df_topwords = pd.DataFrame(male_top_words, columns = ['word','freq'])\n",
        "sns.barplot(x=df_topwords.word, y=df_topwords.freq)\n",
        "plt.title('Most Common Words used from Male')\n",
        "plt.xticks(rotation=45)\n",
        "plt.show()"
      ],
      "execution_count": null,
      "outputs": [
        {
          "output_type": "stream",
          "text": [
            "/Users/jay/opt/anaconda3/lib/python3.7/site-packages/sklearn/feature_extraction/text.py:300: UserWarning: Your stop_words may be inconsistent with your preprocessing. Tokenizing the stop words generated tokens ['doe', 'le'] not in stop_words.\n",
            "  'stop_words.' % sorted(inconsistent))\n"
          ],
          "name": "stderr"
        },
        {
          "output_type": "display_data",
          "data": {
            "image/png": "[encoded data removed]",
            "text/plain": [
              "<Figure size 1296x432 with 1 Axes>"
            ]
          },
          "metadata": {
            "tags": [],
            "needs_background": "light"
          }
        }
      ]
    },
    {
      "cell_type": "code",
      "metadata": {
        "colab_type": "code",
        "id": "fyESbCrKY28f",
        "colab": {
          "base_uri": "https://localhost:8080/",
          "height": 538
        },
        "outputId": "53df5e15-d6de-4640-fb82-a804964fcfad"
      },
      "source": [
        "# Top 40 words from female\n",
        "female_top_words = get_top_n_words(df_doc_female.doc, 40)\n",
        "\n",
        "# Plot top words\n",
        "fig = plt.figure(figsize=(18,6))\n",
        "df_topwords = pd.DataFrame(female_top_words, columns = ['word','freq'])\n",
        "sns.barplot(x=df_topwords.word, y=df_topwords.freq)\n",
        "plt.title('Most Common Words used from Female')\n",
        "plt.xticks(rotation=45)\n",
        "plt.show()"
      ],
      "execution_count": null,
      "outputs": [
        {
          "output_type": "stream",
          "text": [
            "/Users/jay/opt/anaconda3/lib/python3.7/site-packages/sklearn/feature_extraction/text.py:300: UserWarning: Your stop_words may be inconsistent with your preprocessing. Tokenizing the stop words generated tokens ['doe', 'le'] not in stop_words.\n",
            "  'stop_words.' % sorted(inconsistent))\n"
          ],
          "name": "stderr"
        },
        {
          "output_type": "display_data",
          "data": {
            "image/png": "[encoded data removed]",
            "text/plain": [
              "<Figure size 1296x432 with 1 Axes>"
            ]
          },
          "metadata": {
            "tags": [],
            "needs_background": "light"
          }
        }
      ]
    },
    {
      "cell_type": "code",
      "metadata": {
        "id": "L6DRcWSWmQTA",
        "colab_type": "code",
        "colab": {}
      },
      "source": [
        "# Set TF-IDF vectorizer\n",
        "vectorizer=TfidfVectorizer(analyzer='word',input='content',\n",
        "                           lowercase=True, # convert to lowercase\n",
        "                           token_pattern='(?u)\\\\b\\\\w\\\\w+\\\\b',\n",
        "                           min_df=3,\n",
        "                           ngram_range=(1,3), # create unigram, bigram and trigram\n",
        "                           tokenizer=LemmaTokenizer(), # tokenize words\n",
        "                           stop_words = set(stop_sk)) # remove stopwords"
      ],
      "execution_count": null,
      "outputs": []
    },
    {
      "cell_type": "code",
      "metadata": {
        "id": "HM32giBJmQTC",
        "colab_type": "code",
        "colab": {},
        "outputId": "159a0279-fad6-4188-8fc2-47fce0909d8a"
      },
      "source": [
        "# Vectorize document and gender\n",
        "train=vectorizer.fit_transform(x_train)\n",
        "valid=vectorizer.transform(x_valid)\n",
        "gender_train=np.asarray(y_train)\n",
        "gender_valid=np.asarray(y_valid)"
      ],
      "execution_count": null,
      "outputs": [
        {
          "output_type": "stream",
          "text": [
            "/Users/jay/opt/anaconda3/lib/python3.7/site-packages/sklearn/feature_extraction/text.py:300: UserWarning: Your stop_words may be inconsistent with your preprocessing. Tokenizing the stop words generated tokens ['doe', 'le'] not in stop_words.\n",
            "  'stop_words.' % sorted(inconsistent))\n"
          ],
          "name": "stderr"
        }
      ]
    },
    {
      "cell_type": "markdown",
      "metadata": {
        "colab_type": "text",
        "id": "93DW3dZ1_pft"
      },
      "source": [
        "<a name=4.3></a>\n",
        "### Building Models"
      ]
    },
    {
      "cell_type": "code",
      "metadata": {
        "colab_type": "code",
        "id": "zfcHhOR4tW7J",
        "colab": {}
      },
      "source": [
        "# # Make a func to develop model for each class\n",
        "# def accuracyModel(models, x_train, y_train, cv_fold): \n",
        "#     df = pd.DataFrame(index=range(cv_fold * len(models)))\n",
        "#     entries = []\n",
        "#     for model in models:\n",
        "        \n",
        "#         model_name = model.__class__.__name__\n",
        "\n",
        "#         model.fit(x_train, gender_train)\n",
        "        \n",
        "#         y_predict = model.predict(x_train)\n",
        "        \n",
        "#         accuracies = cross_val_score(model, x_train, gender_train, scoring='accuracy', cv=cv_fold)\n",
        "        \n",
        "#         for fold_idx, accuracy in enumerate(accuracies):\n",
        "#             entries.append((model_name, fold_idx, accuracy, y_predict))\n",
        "    \n",
        "#     df = pd.DataFrame(entries, columns=['model_name', 'fold_idx', 'accuracy', 'prediction'])\n",
        "    \n",
        "#     return df"
      ],
      "execution_count": null,
      "outputs": []
    },
    {
      "cell_type": "code",
      "metadata": {
        "colab_type": "code",
        "id": "YSdUvi1-tW7N",
        "colab": {}
      },
      "source": [
        "# # Train models\n",
        "# models = [LogisticRegression(), BernoulliNB(), LinearSVC(), \n",
        "#           ensemble.RandomForestClassifier(), xgboost.XGBClassifier()]\n",
        "\n",
        "# cv_fold = 5 \n",
        "# trainAcc = accuracyModel(models, train, gender_train, cv_fold)\n",
        "\n",
        "# # Draw the variation of accuracies using boxplot\n",
        "# sns.boxplot(x='accuracy',y = 'model_name', data=trainAcc).set_title('Accuracy with preprocessing')\n",
        "# plt.show()"
      ],
      "execution_count": null,
      "outputs": []
    },
    {
      "cell_type": "code",
      "metadata": {
        "colab_type": "code",
        "id": "miOv0zTeyXCi",
        "scrolled": false,
        "colab": {}
      },
      "source": [
        "# # Show confusion matrix & accuracy of average cv results\n",
        "# pred_li = []\n",
        "# idx = 0\n",
        "# for i in range(len(models)):\n",
        "#     # Model name\n",
        "#     modelName = trainAcc.iloc[:,0].unique()[i]\n",
        "\n",
        "#     # Average CV accuracy\n",
        "#     avg_accuracy = sum(trainAcc.iloc[idx:idx+cv_fold,2].to_list())/cv_fold\n",
        "    \n",
        "#     idx += cv_fold\n",
        "    \n",
        "#     # Validate with valid dataset\n",
        "#     model = models[i]\n",
        "#     model.fit(train,gender_train)\n",
        "#     y_predict = model.predict(valid)\n",
        "\n",
        "#     valid_accuracy = accuracy_score(y_predict,gender_valid) \n",
        "    \n",
        "#     # Save prediction \n",
        "#     pred_li.append(y_predict)\n",
        "\n",
        "#     # Display average results\n",
        "#     print(model)\n",
        "#     print(confusion_matrix(gender_valid, y_predict))\n",
        "#     print(f'Average CV Accuracy: {\"%.2f\" % avg_accuracy}')\n",
        "#     print(f'Validation Accuracy: {\"%.2f\" % valid_accuracy}\\n')"
      ],
      "execution_count": null,
      "outputs": []
    },
    {
      "cell_type": "markdown",
      "metadata": {
        "colab_type": "text",
        "id": "8vJIt-e0DJDZ"
      },
      "source": [
        "<a name=4.4></a>\n",
        "### Ensemble Statistical Models\n"
      ]
    },
    {
      "cell_type": "markdown",
      "metadata": {
        "colab_type": "text",
        "id": "_rkPEe0NGapy"
      },
      "source": [
        "#### Ensmeble of All Models"
      ]
    },
    {
      "cell_type": "code",
      "metadata": {
        "colab_type": "code",
        "id": "XjWuvb2pDMsD",
        "colab": {}
      },
      "source": [
        "# # Ensemble of all models\n",
        "# mode_predict = np.array([])\n",
        "# for i in range(len(pred_li[0])):\n",
        "#     pred1 = pred_li[0]\n",
        "#     pred2 = pred_li[1]\n",
        "#     pred3 = pred_li[2]\n",
        "#     pred4 = pred_li[3]\n",
        "#     pred5 = pred_li[4]\n",
        "#     mode_predict = np.append(mode_predict, max([pred1[i],pred2[i],pred3[i],pred4[i],pred5[i]]))\n",
        "\n",
        "# # Accuracy\n",
        "# accuracy = metrics.accuracy_score(gender_valid, mode_predict)\n",
        "                                  \n",
        "# # Display results\n",
        "# print(f'Ensembled accuracy {\"%.2f\" % accuracy}')                                \n",
        "# print(confusion_matrix(gender_valid, mode_predict))"
      ],
      "execution_count": null,
      "outputs": []
    },
    {
      "cell_type": "markdown",
      "metadata": {
        "colab_type": "text",
        "id": "Kq-t8CYOGdex"
      },
      "source": [
        "#### Ensemble of Logistic Regression, Linear SVC, XGBoost"
      ]
    },
    {
      "cell_type": "code",
      "metadata": {
        "colab_type": "code",
        "id": "1cODCwubGSJQ",
        "colab": {}
      },
      "source": [
        "# # Ensemble of linear svc, xgboost\n",
        "# mode_predict = np.array([])\n",
        "# for i in range(len(pred_li[0])):\n",
        "#     pred1 = pred_li[0]\n",
        "#     pred3 = pred_li[2]\n",
        "#     pred5 = pred_li[4]\n",
        "#     mode_predict = np.append(mode_predict, max([pred1[i],pred3[i],pred5[i]]))\n",
        "\n",
        "# # Accuracy\n",
        "# accuracy = metrics.accuracy_score(gender_valid, mode_predict)\n",
        "                                  \n",
        "# # Display results\n",
        "# print(f'Ensembled accuracy {\"%.2f\" % accuracy}')                                \n",
        "# print(confusion_matrix(gender_valid, mode_predict))"
      ],
      "execution_count": null,
      "outputs": []
    },
    {
      "cell_type": "markdown",
      "metadata": {
        "colab_type": "text",
        "id": "it6ue19mGlKS"
      },
      "source": [
        "#### Ensemble of Linear SVC, XGBoost"
      ]
    },
    {
      "cell_type": "code",
      "metadata": {
        "colab_type": "code",
        "id": "ZL0Adg2fFYvO",
        "colab": {}
      },
      "source": [
        "# # Ensemble of linear svc, xgboost\n",
        "# mode_predict = np.array([])\n",
        "# for i in range(len(pred_li[0])):\n",
        "#     pred1 = pred_li[0]\n",
        "#     pred3 = pred_li[2]\n",
        "#     pred5 = pred_li[4]\n",
        "#     mode_predict = np.append(mode_predict, max([pred3[i],pred5[i]]))\n",
        "\n",
        "# # Accuracy\n",
        "# accuracy = metrics.accuracy_score(gender_valid, mode_predict)\n",
        "                                  \n",
        "# # Display results\n",
        "# print(f'Ensembled accuracy {\"%.2f\" % accuracy}')                                \n",
        "# print(confusion_matrix(gender_valid, mode_predict))"
      ],
      "execution_count": null,
      "outputs": []
    },
    {
      "cell_type": "markdown",
      "metadata": {
        "colab_type": "text",
        "id": "4QE2A7yuwbST"
      },
      "source": [
        "<a name=4.5></a>\n",
        "### Vectoriser Tuning\n"
      ]
    },
    {
      "cell_type": "markdown",
      "metadata": {
        "colab_type": "text",
        "id": "IDPMymKgx2-5"
      },
      "source": [
        "#### Optimise Max_df"
      ]
    },
    {
      "cell_type": "code",
      "metadata": {
        "colab_type": "code",
        "id": "loqEc8F-Y28k",
        "colab": {}
      },
      "source": [
        "# # Define gender as array\n",
        "# gender_train=np.asarray(y_train)\n",
        "\n",
        "# pipe = make_pipeline(TfidfVectorizer(analyzer='word',input='content',\n",
        "#                            lowercase=True, # convert to lowercase\n",
        "#                            token_pattern='(?u)\\\\b\\\\w\\\\w+\\\\b',\n",
        "#                            min_df=3,\n",
        "#                            ngram_range=(1,3), # create unigram, bigram and trigram\n",
        "#                            tokenizer=LemmaTokenizer(), # tokenize words\n",
        "#                            stop_words = set(stop_sk))\n",
        "#                      , LinearSVC())\n",
        "\n",
        "# param_grid = {\"tfidfvectorizer__max_df\":[0.5,0.6,0.7,0.8,0.9]}\n",
        "\n",
        "# grid = GridSearchCV(pipe, param_grid, cv=5)\n",
        "# grid.fit(x_train,gender_train)"
      ],
      "execution_count": null,
      "outputs": []
    },
    {
      "cell_type": "code",
      "metadata": {
        "colab_type": "code",
        "id": "g8J2oiGWY28m",
        "scrolled": true,
        "colab": {}
      },
      "source": [
        "# # Return test result\n",
        "# scores = grid.cv_results_['mean_test_score'].reshape(-1,5).T\n",
        "# scores"
      ],
      "execution_count": null,
      "outputs": []
    },
    {
      "cell_type": "markdown",
      "metadata": {
        "colab_type": "text",
        "id": "UdctXrW8Y28n"
      },
      "source": [
        "Max_df not to be altered due to insignificant improvement.\n"
      ]
    },
    {
      "cell_type": "markdown",
      "metadata": {
        "colab_type": "text",
        "id": "sOPWzyZ5y6tV"
      },
      "source": [
        "#### Optimise Min_df"
      ]
    },
    {
      "cell_type": "code",
      "metadata": {
        "colab_type": "code",
        "id": "Knck_RwmY28o",
        "colab": {}
      },
      "source": [
        "# # Define gender as array\n",
        "# gender_train=np.asarray(y_train)\n",
        "\n",
        "# pipe = make_pipeline(TfidfVectorizer(analyzer='word',input='content',\n",
        "#                            lowercase=True, # convert to lowercase\n",
        "#                            token_pattern='(?u)\\\\b\\\\w\\\\w+\\\\b',\n",
        "#                            max_df=0.9,\n",
        "#                            ngram_range=(1,3), # create unigram, bigram and trigram\n",
        "#                            tokenizer=LemmaTokenizer(), # tokenize words\n",
        "#                            stop_words = set(stop_sk))\n",
        "#                      , LinearSVC())\n",
        "\n",
        "# param_grid = {\"tfidfvectorizer__min_df\":[3,4,5,0.1,0.15,0.2]}\n",
        "\n",
        "# grid = GridSearchCV(pipe, param_grid, cv=5)\n",
        "# grid.fit(x_train,gender_train)"
      ],
      "execution_count": null,
      "outputs": []
    },
    {
      "cell_type": "code",
      "metadata": {
        "colab_type": "code",
        "id": "5KYzv1uTY28q",
        "colab": {}
      },
      "source": [
        "# # Return test result\n",
        "# scores = grid.cv_results_['mean_test_score'].reshape(-1,6).T\n",
        "# scores"
      ],
      "execution_count": null,
      "outputs": []
    },
    {
      "cell_type": "markdown",
      "metadata": {
        "colab_type": "text",
        "id": "8cjg62PAzGMA"
      },
      "source": [
        "Min_df not to be altered due to insignificant improvement. "
      ]
    },
    {
      "cell_type": "markdown",
      "metadata": {
        "colab_type": "text",
        "id": "QMx0VM933Id6"
      },
      "source": [
        "<a name=4.6></a>\n",
        "### Hyperparameter Tuning - Logistic Regression"
      ]
    },
    {
      "cell_type": "code",
      "metadata": {
        "colab_type": "code",
        "id": "W1CHQgyWY29W",
        "scrolled": false,
        "colab": {}
      },
      "source": [
        "# # Determine optimised C and penalty\n",
        "# param_grid = {'C':[0.1,1,10,100,1000], 'penalty':['l1','l2']}\n",
        "\n",
        "# grid = GridSearchCV(LogisticRegression(), param_grid, refit = True, verbose = 5)\n",
        "\n",
        "# grid.fit(train, gender_train)"
      ],
      "execution_count": null,
      "outputs": []
    },
    {
      "cell_type": "code",
      "metadata": {
        "colab_type": "code",
        "id": "vpwCuRMtY29X",
        "colab": {}
      },
      "source": [
        "# # Display results\n",
        "# print(grid.best_params_)\n",
        "# print(grid.best_estimator_)"
      ],
      "execution_count": null,
      "outputs": []
    },
    {
      "cell_type": "markdown",
      "metadata": {
        "colab_type": "text",
        "id": "pKgney6h6GaH"
      },
      "source": [
        "#### Test Optimised Model"
      ]
    },
    {
      "cell_type": "code",
      "metadata": {
        "colab_type": "code",
        "id": "mDVwMgzV38BF",
        "colab": {}
      },
      "source": [
        "# #### Test Optimised Model\n",
        "# # Define optimised model\n",
        "# lr_model = LogisticRegression(C=10,penalty='l2')\n",
        "\n",
        "# lr_model.fit(train, gender_train)\n",
        "# y_predict = lr_model.predict(valid)\n",
        "# valid_accuracy = accuracy_score(y_predict,gender_valid) \n",
        "\n",
        "# # Display results\n",
        "# print(f'Optimised Logistic Regression accuracy: {\"%.2f\" % valid_accuracy}')"
      ],
      "execution_count": null,
      "outputs": []
    },
    {
      "cell_type": "markdown",
      "metadata": {
        "colab_type": "text",
        "id": "89UtMoqciuX4"
      },
      "source": [
        "<a name=4.7></a>\n",
        "### Hyperparameter Tuning - Linear SVC"
      ]
    },
    {
      "cell_type": "code",
      "metadata": {
        "colab_type": "code",
        "id": "rJH1-ib_iuX5",
        "scrolled": false,
        "colab": {}
      },
      "source": [
        "# # Determine optimised C and loss\n",
        "# param_grid = {'C':[0.1,1,10,100,1000], 'loss':['hinge','squared_hinge']}\n",
        "\n",
        "# grid = GridSearchCV(LinearSVC(), param_grid, refit = True, verbose = 5)\n",
        "\n",
        "# grid.fit(train, gender_train)"
      ],
      "execution_count": null,
      "outputs": []
    },
    {
      "cell_type": "code",
      "metadata": {
        "colab_type": "code",
        "id": "ZMp1viBviuX7",
        "colab": {}
      },
      "source": [
        "# # Display results\n",
        "# print(grid.best_params_)\n",
        "# print(grid.best_estimator_)"
      ],
      "execution_count": null,
      "outputs": []
    },
    {
      "cell_type": "markdown",
      "metadata": {
        "colab_type": "text",
        "id": "S3vu9zTG3xbu"
      },
      "source": [
        "Optimised hyperparameters are identical to the default setting, hence, the model is not further tested."
      ]
    },
    {
      "cell_type": "markdown",
      "metadata": {
        "colab_type": "text",
        "id": "hGbmJ1zYTtMH"
      },
      "source": [
        "<a name=4.8></a>\n",
        "### Hyperparameter Tuning - XGBoost"
      ]
    },
    {
      "cell_type": "markdown",
      "metadata": {
        "colab_type": "text",
        "id": "pd04gqCfjfjC"
      },
      "source": [
        "#### Optimise Number of Boosting Iterations"
      ]
    },
    {
      "cell_type": "code",
      "metadata": {
        "colab_type": "code",
        "id": "QhaSqwF0YUJ3",
        "colab": {}
      },
      "source": [
        "# # Define function to determine optimised boosting iteration numbers\n",
        "# def modelfit(alg, x_train, y_train, cv_folds=5, early_stopping_rounds=10):\n",
        "    \n",
        "#     # Run cross validation to determine boosting iteration results\n",
        "#     xgb_param = alg.get_xgb_params()\n",
        "#     xgtrain = xgb.DMatrix(x_train, label=pd.factorize(gender_train)[0])\n",
        "#     cvresult = xgb.cv(dtrain=xgtrain, params=xgb_param, num_boost_round=alg.get_params()['n_estimators'], nfold=cv_folds,\n",
        "#         metrics='auc', early_stopping_rounds=early_stopping_rounds, as_pandas=True, verbose_eval=True)\n",
        "#     alg.set_params(n_estimators=cvresult.shape[0])\n",
        "\n",
        "#     # Fit model using optimised iteration numbers\n",
        "#     alg.fit(x_train, y_train,eval_metric='auc')\n",
        "        \n",
        "#     # Print model report\n",
        "#     print ('\\nModel Report')\n",
        "#     print(cvresult)\n",
        "#     print(f'Optimised Number of Iterations: {cvresult.shape[0]}')"
      ],
      "execution_count": null,
      "outputs": []
    },
    {
      "cell_type": "code",
      "metadata": {
        "colab_type": "code",
        "id": "FeZl3LB4sBNM",
        "colab": {}
      },
      "source": [
        "# # Define initial hyperparameters\n",
        "# model = XGBClassifier(\n",
        "#     learning_rate =0.1,\n",
        "#     n_estimators=500,\n",
        "#     max_depth=5,\n",
        "#     min_child_weight=1,\n",
        "#     gamma=0,\n",
        "#     subsample=0.8,\n",
        "#     colsample_bytree=0.8,\n",
        "#     objective= 'binary:logistic',\n",
        "#     nthread=4,\n",
        "#     scale_pos_weight=1,\n",
        "#     seed=27)\n",
        "\n",
        "# # Determine optimised iteration numbers\n",
        "# modelfit(model, train, gender_train)\n",
        "\n",
        "# # Display results\n",
        "# print('Optimised Boosting Iteration Number: 193')"
      ],
      "execution_count": null,
      "outputs": []
    },
    {
      "cell_type": "markdown",
      "metadata": {
        "colab_type": "text",
        "id": "ySBte_COdv_Q"
      },
      "source": [
        "#### Optimise XGBoost Tree Parameters"
      ]
    },
    {
      "cell_type": "code",
      "metadata": {
        "colab_type": "code",
        "id": "oftkoe93Tw7g",
        "colab": {}
      },
      "source": [
        "# # Determine optimised max. depth and min. child weight\n",
        "# param_test = {\n",
        "#  'max_depth':range(3,5),\n",
        "#  'min_child_weight':range(1,3)\n",
        "# }\n",
        "# grid = GridSearchCV(estimator = XGBClassifier( learning_rate =0.1, n_estimators=193, max_depth=5,\n",
        "#  min_child_weight=1, gamma=0, subsample=0.8, colsample_bytree=0.8,\n",
        "#  objective= 'binary:logistic', nthread=4, scale_pos_weight=1, seed=27), \n",
        "#  param_grid = param_test, scoring='roc_auc',n_jobs=4,iid=False, cv=5, verbose=3)\n",
        "# grid.fit(train, gender_train)\n",
        "\n",
        "# print('Optimised Parameters:')\n",
        "# print(grid.best_params_)\n",
        "\n",
        "# # Display results\n",
        "# print('Optimised max_depth: 4\\nOptimised min_child_weight: 1')"
      ],
      "execution_count": null,
      "outputs": []
    },
    {
      "cell_type": "markdown",
      "metadata": {
        "colab_type": "text",
        "id": "qUoJxI7Otak_"
      },
      "source": [
        "#### Optimise Regularisation Parameters"
      ]
    },
    {
      "cell_type": "code",
      "metadata": {
        "colab_type": "code",
        "id": "22Qhvmo-tdgK",
        "colab": {}
      },
      "source": [
        "# # Determine optimised regularisation alpha\n",
        "# param_test = {\n",
        "#  'reg_alpha':[1e-5, 1e-2, 0.1, 1, 100]\n",
        "# }\n",
        "# grid = GridSearchCV(estimator = XGBClassifier( learning_rate =0.1, n_estimators=193, max_depth=4,\n",
        "#  min_child_weight=1, gamma=0.1, subsample=0.8, colsample_bytree=0.8,\n",
        "#  objective= 'binary:logistic', nthread=4, scale_pos_weight=1,seed=27), \n",
        "#  param_grid = param_test, scoring='roc_auc',n_jobs=4,iid=False, cv=5, verbose=3)\n",
        "# grid.fit(train, gender_train)\n",
        "\n",
        "# print('Optimised Parameters:')\n",
        "# print(grid.best_params_)\n",
        "\n",
        "# # Display results\n",
        "# print('Optimised reg_alpha: 1e-05')"
      ],
      "execution_count": null,
      "outputs": []
    },
    {
      "cell_type": "markdown",
      "metadata": {
        "colab_type": "text",
        "id": "zjFIwSrvtzn5"
      },
      "source": [
        "#### Reduce Learning Rate & Reoptimise Number of Boosting Iterations\n"
      ]
    },
    {
      "cell_type": "code",
      "metadata": {
        "colab_type": "code",
        "id": "lupo25OGt2Qa",
        "colab": {}
      },
      "source": [
        "# # Redefine learning rate\n",
        "# model = XGBClassifier(\n",
        "#  learning_rate =0.01,\n",
        "#  n_estimators=1000,\n",
        "#  max_depth=4,\n",
        "#  min_child_weight=1,\n",
        "#  gamma=0,\n",
        "#  subsample=0.8,\n",
        "#  colsample_bytree=0.8,\n",
        "#  reg_alpha=0.00001,\n",
        "#  objective= 'binary:logistic',\n",
        "#  nthread=4,\n",
        "#  scale_pos_weight=1,\n",
        "#  seed=27)\n",
        "\n",
        "# modelfit(model, train, gender_train, early_stopping_rounds=50)\n",
        "\n",
        "# # Display results\n",
        "# print('Optimised Boosting Iteration Numbers: 1000')"
      ],
      "execution_count": null,
      "outputs": []
    },
    {
      "cell_type": "markdown",
      "metadata": {
        "colab_type": "text",
        "id": "9mN7OYYZ9qjX"
      },
      "source": [
        "The number of boosting iteration is not increased beyond 1000 to limit the computational requirement of the model. "
      ]
    },
    {
      "cell_type": "markdown",
      "metadata": {
        "colab_type": "text",
        "id": "UHw1NP-HDJqb"
      },
      "source": [
        "#### Test  Optimised Model"
      ]
    },
    {
      "cell_type": "code",
      "metadata": {
        "colab_type": "code",
        "id": "pFc4cu6QtEw8",
        "colab": {}
      },
      "source": [
        "# # Define optimised model\n",
        "# xgb_model = XGBClassifier(\n",
        "#  learning_rate =0.01,\n",
        "#  n_estimators=1000,\n",
        "#  max_depth=4,\n",
        "#  min_child_weight=1,\n",
        "#  gamma=0,\n",
        "#  subsample=0.8,\n",
        "#  colsample_bytree=0.8,\n",
        "#  reg_alpha=0.00001,\n",
        "#  objective= 'binary:logistic',\n",
        "#  nthread=4,\n",
        "#  scale_pos_weight=1,\n",
        "#  seed=27)\n",
        "\n",
        "# xgb_model.fit(train, gender_train)\n",
        "# y_predict = xgb_model.predict(valid)\n",
        "# valid_accuracy = accuracy_score(y_predict,gender_valid) \n",
        "\n",
        "# # Display results\n",
        "# print(f'Optimised XGBoost accuracy: {\"%.2f\" % valid_accuracy}')"
      ],
      "execution_count": null,
      "outputs": []
    },
    {
      "cell_type": "markdown",
      "metadata": {
        "colab_type": "text",
        "id": "uuZWIdwy3c3R"
      },
      "source": [
        "<a name=5></a>\n",
        "## Making Final Prediction"
      ]
    },
    {
      "cell_type": "markdown",
      "metadata": {
        "colab_type": "text",
        "id": "VnqtElin3hXm"
      },
      "source": [
        "<a name=5.1></a>\n",
        "### Pre-processing Test Dataset"
      ]
    },
    {
      "cell_type": "code",
      "metadata": {
        "colab_type": "code",
        "id": "4-hEHnsq3vd-",
        "colab": {}
      },
      "source": [
        "# Read csv\n",
        "test = pd.read_csv('test.csv')\n",
        "# Convert id to list\n",
        "testId = test['id'].tolist()"
      ],
      "execution_count": null,
      "outputs": []
    },
    {
      "cell_type": "code",
      "metadata": {
        "colab_type": "code",
        "id": "g_tP59D63veD",
        "scrolled": true,
        "colab": {
          "base_uri": "https://localhost:8080/",
          "height": 50
        },
        "outputId": "90aae258-65c1-495d-dc40-5afcac050ef1"
      },
      "source": [
        "# Parse xml\n",
        "def parseXML(trainId):\n",
        "    content = []\n",
        "    \n",
        "    # Encoding utf-8\n",
        "    xmlp = ET.XMLParser(encoding='utf-8') \n",
        "    # Append .xml to make filename\n",
        "    xml = trainId +'.xml'\n",
        "    # It depends on your data location\n",
        "    mytree = ET.parse('./data/'+xml,parser=xmlp)\n",
        "    # Find root\n",
        "    myroot = mytree.getroot()\n",
        "\n",
        "    for x in myroot[0]:\n",
        "        content.append(x.text)\n",
        "    \n",
        "    return content\n",
        "\n",
        "# Save each document into list\n",
        "documents = []\n",
        "\n",
        "for testid in testId:\n",
        "    content = parseXML(testid)\n",
        "    documents.append(' '.join(content))\n",
        "\n",
        "# Create new column for document\n",
        "test['documents'] = documents\n",
        "\n",
        "# Inspect the number of documents is matched with trainId length\n",
        "print(len(documents))\n",
        "print(len(testId))"
      ],
      "execution_count": null,
      "outputs": [
        {
          "output_type": "stream",
          "text": [
            "500\n",
            "500\n"
          ],
          "name": "stdout"
        }
      ]
    },
    {
      "cell_type": "code",
      "metadata": {
        "colab_type": "code",
        "id": "ESe4ieTY3veG",
        "colab": {}
      },
      "source": [
        "# First preprocessing\n",
        "test['documents_firstPre'] = test['documents']\n",
        "# Convert to lowercase\n",
        "test['documents_firstPre'] = test['documents_firstPre'].map(lambda x: x.lower())\n",
        "# Remove https\n",
        "test['documents_firstPre'] = test['documents_firstPre'].map(lambda x: re.sub(r'http\\S+','',x))\n",
        "# Convert encoding of apostrophs\n",
        "test['documents_firstPre'] = test['documents_firstPre'].map(lambda x: re.sub(r'’',\"'\",x))\n",
        "# Convert double quotes to single quotes\n",
        "test['documents_firstPre'] = test['documents_firstPre'].map(lambda x: re.sub(r'\"',\"'\",x))\n",
        "# Expand apostrophes contraction (ex. he's > he is)\n",
        "contract = ['can\\'t','doesn\\'t','don\\'t','didn\\'t','isn\\'t','aren\\'t','won\\'t','wasn\\'t','weren\\'t','gonna','hasn\\'t','haven\\'t',\\\n",
        "            'hadn\\'t','they\\'ll','they\\'ve','he\\'ll','she\\'ll','i\\'m','i\\'ll','i\\'ve','we\\'ll','we\\'ve',\\\n",
        "            'i\\'d','he\\'d','she\\'d','they\\'d','we\\'d','it\\'d']\n",
        "expand = ['can not','does not','do not','did not','is not','are not','will not','was not','were not','going to','has not','have not',\\\n",
        "          'had not','they will','they have','he will','she will','i am','i will','i have','we will','we have',\\\n",
        "          'i would','he would','she would','they would','we would','it would']\n",
        "apo_dic = dict(zip(contract,expand))\n",
        "test['documents_firstPre'] = test['documents_firstPre'].map(lambda x: x.split())\n",
        "test['documents_firstPre'] = test['documents_firstPre'].map(lambda x: \\\n",
        "                        [apo_dic[word] if '{}'.format(word)  in apo_dic else '{}'.format(word) for word in x])\n",
        "test['documents_firstPre'] = test['documents_firstPre'].map(lambda x: ' '.join(x))\n",
        "# Convert emoji to text\n",
        "emoji_li = list()\n",
        "text_li = list()\n",
        "for sen in test['documents_firstPre']:\n",
        "    for word in sen:\n",
        "        try:\n",
        "            # If emoji, add emoji and its meaning to lists\n",
        "            if UNICODE_EMOJI[word]: \n",
        "                emoji_li.append(word)\n",
        "                text_li.append(UNICODE_EMOJI[word])\n",
        "        except:\n",
        "            pass\n",
        "emoji_dict = dict(zip(emoji_li, text_li))\n",
        "#test['documents_firstPre'] = test['documents_firstPre'].map(lambda x: \\\n",
        "#                [emoji_dict[word] if word in emoji_dict else word for word in x])\n",
        "#test['documents_firstPre'] = test['documents_firstPre'].map(lambda x: \"\".join(x))\n",
        "# Remove mentions\n",
        "test['documents_firstPre'] = test['documents_firstPre'].map(lambda x: re.sub(r'@\\w+','',x))\n",
        "# Remove hashtags\n",
        "test['documents_firstPre'] = test['documents_firstPre'].map(lambda x: re.sub(r'#\\w+','',x))\n",
        "# Remove punctuations and numbers\n",
        "test['documents_firstPre'] = test['documents_firstPre'].map(lambda x: re.sub('[^a-zA-Z]',' ',x))\n",
        "# Remove single character\n",
        "test['documents_firstPre'] = test['documents_firstPre'].map(lambda x: re.sub(r\"\\s+[a-zA-Z]\\s+\",' ',x))\n",
        "# Remove emoji\n",
        "test['documents_firstPre'] = test['documents_firstPre'].map(lambda x: re.sub('[\\U00010000-\\U0010ffff]', '', x))\n",
        "# Remove new line characters\n",
        "test['documents_firstPre'] = test['documents_firstPre'].map(lambda x:re.sub('\\s+', ' ',x))\n",
        "# Convert to list\n",
        "firstDocument = test['documents_firstPre'].tolist()"
      ],
      "execution_count": null,
      "outputs": []
    },
    {
      "cell_type": "code",
      "metadata": {
        "colab_type": "code",
        "id": "8S2HCv7m3veI",
        "colab": {}
      },
      "source": [
        "# Convert to list\n",
        "testDocs = test.documents_firstPre.tolist()  # pre-processed"
      ],
      "execution_count": null,
      "outputs": []
    },
    {
      "cell_type": "code",
      "metadata": {
        "id": "h7ZiREN9mQUW",
        "colab_type": "code",
        "colab": {}
      },
      "source": [
        "# Set TF-IDF vectorizer\n",
        "vectorizer=TfidfVectorizer(analyzer='word',input='content',\n",
        "                           lowercase=True, # convert to lowercase\n",
        "                           token_pattern='(?u)\\\\b\\\\w\\\\w+\\\\b',\n",
        "                           min_df=3,\n",
        "                           ngram_range=(1,3), # create unigram, bigram and trigram\n",
        "                           tokenizer=LemmaTokenizer(), # tokenize words\n",
        "                           stop_words = set(stop_sk)) # remove stopwords"
      ],
      "execution_count": null,
      "outputs": []
    },
    {
      "cell_type": "code",
      "metadata": {
        "colab_type": "code",
        "id": "Az30eOgY3veP",
        "colab": {
          "base_uri": "https://localhost:8080/",
          "height": 70
        },
        "outputId": "b44e9b3c-8ee0-4a15-fd7b-2e5a82ce9966"
      },
      "source": [
        "# Vectorize document\n",
        "# Whole train dataset is used to fit transform \n",
        "train=vectorizer.fit_transform(trainDocs)\n",
        "gender_train=np.asarray(gender)\n",
        "test=vectorizer.transform(testDocs)"
      ],
      "execution_count": null,
      "outputs": [
        {
          "output_type": "stream",
          "text": [
            "/usr/local/lib/python3.6/dist-packages/sklearn/feature_extraction/text.py:385: UserWarning: Your stop_words may be inconsistent with your preprocessing. Tokenizing the stop words generated tokens ['doe', 'le', 'u'] not in stop_words.\n",
            "  'stop_words.' % sorted(inconsistent))\n"
          ],
          "name": "stderr"
        }
      ]
    },
    {
      "cell_type": "code",
      "metadata": {
        "id": "7bQeWthXmQUZ",
        "colab_type": "code",
        "colab": {}
      },
      "source": [
        "# Import final test data for checking 3 models\n",
        "test_labels = pd.read_csv('test_labels.csv')\n",
        "\n",
        "# Vectorize\n",
        "gender_test = np.asarray(test_labels['gender'])"
      ],
      "execution_count": null,
      "outputs": []
    },
    {
      "cell_type": "markdown",
      "metadata": {
        "colab_type": "text",
        "id": "-takjRyc4oah"
      },
      "source": [
        "<a name=5.2></a>\n",
        "### Linear SVC Model "
      ]
    },
    {
      "cell_type": "code",
      "metadata": {
        "colab_type": "code",
        "id": "f7IwCV534qXN",
        "colab": {}
      },
      "source": [
        "# Define linear SVC model\n",
        "linear_model = LinearSVC()"
      ],
      "execution_count": null,
      "outputs": []
    },
    {
      "cell_type": "code",
      "metadata": {
        "colab_type": "code",
        "id": "y_0p6OY17J-Q",
        "colab": {
          "base_uri": "https://localhost:8080/",
          "height": 83
        },
        "outputId": "18b55278-5019-4d0f-ddc7-b2f1a5db3264"
      },
      "source": [
        "# Train model on whole train dataset\n",
        "linear_model.fit(train, gender_train)"
      ],
      "execution_count": null,
      "outputs": [
        {
          "output_type": "execute_result",
          "data": {
            "text/plain": [
              "LinearSVC(C=1.0, class_weight=None, dual=True, fit_intercept=True,\n",
              "          intercept_scaling=1, loss='squared_hinge', max_iter=1000,\n",
              "          multi_class='ovr', penalty='l2', random_state=None, tol=0.0001,\n",
              "          verbose=0)"
            ]
          },
          "metadata": {
            "tags": []
          },
          "execution_count": 26
        }
      ]
    },
    {
      "cell_type": "code",
      "metadata": {
        "colab_type": "code",
        "id": "5r_nN-A57O_-",
        "colab": {}
      },
      "source": [
        "# Make prediction \n",
        "y_predict = linear_model.predict(test)"
      ],
      "execution_count": null,
      "outputs": []
    },
    {
      "cell_type": "code",
      "metadata": {
        "id": "kLH2olSEmQUf",
        "colab_type": "code",
        "colab": {
          "base_uri": "https://localhost:8080/",
          "height": 117
        },
        "outputId": "08a8644d-ca3e-4fe2-f54d-9c8bd3f9eeeb"
      },
      "source": [
        "# Measure validation testing accuracy\n",
        "print(confusion_matrix(gender_test,y_predict))\n",
        "recall=recall_score(gender_test,y_predict,average='macro')\n",
        "precision=precision_score(gender_test,y_predict,average='macro')\n",
        "f1score=f1_score(gender_test,y_predict,average='macro')\n",
        "accuracy=accuracy_score(gender_test,y_predict)\n",
        "print('Accuracy: '+ str(accuracy))\n",
        "print('Macro Precision: '+ str(precision))\n",
        "print('Macro Recall: '+ str(recall))\n",
        "print('Macro F1 score:'+ str(f1score))"
      ],
      "execution_count": null,
      "outputs": [
        {
          "output_type": "stream",
          "text": [
            "[[214  38]\n",
            " [ 55 193]]\n",
            "Accuracy: 0.814\n",
            "Macro Precision: 0.8155184344775424\n",
            "Macro Recall: 0.813716077828981\n",
            "Macro F1 score:0.8136713162017799\n"
          ],
          "name": "stdout"
        }
      ]
    },
    {
      "cell_type": "markdown",
      "metadata": {
        "id": "6NjfC5-pmQUl",
        "colab_type": "text"
      },
      "source": [
        "<a name=5.3></a>\n",
        "### Logistic Regression Model"
      ]
    },
    {
      "cell_type": "code",
      "metadata": {
        "id": "6s_uT7QUmQUl",
        "colab_type": "code",
        "colab": {}
      },
      "source": [
        "# Define linear SVC model\n",
        "logis_model = LogisticRegression()"
      ],
      "execution_count": null,
      "outputs": []
    },
    {
      "cell_type": "code",
      "metadata": {
        "id": "cf43w9ZcmQUm",
        "colab_type": "code",
        "colab": {
          "base_uri": "https://localhost:8080/",
          "height": 100
        },
        "outputId": "6318b3a5-854c-4c68-be45-7725d4b72d73"
      },
      "source": [
        "# Train model on whole train dataset\n",
        "logis_model.fit(train, gender_train)"
      ],
      "execution_count": null,
      "outputs": [
        {
          "output_type": "execute_result",
          "data": {
            "text/plain": [
              "LogisticRegression(C=1.0, class_weight=None, dual=False, fit_intercept=True,\n",
              "                   intercept_scaling=1, l1_ratio=None, max_iter=100,\n",
              "                   multi_class='auto', n_jobs=None, penalty='l2',\n",
              "                   random_state=None, solver='lbfgs', tol=0.0001, verbose=0,\n",
              "                   warm_start=False)"
            ]
          },
          "metadata": {
            "tags": []
          },
          "execution_count": 30
        }
      ]
    },
    {
      "cell_type": "code",
      "metadata": {
        "id": "bnmoF--TmQUo",
        "colab_type": "code",
        "colab": {}
      },
      "source": [
        "# Make prediction \n",
        "y_predict = logis_model.predict(test)"
      ],
      "execution_count": null,
      "outputs": []
    },
    {
      "cell_type": "code",
      "metadata": {
        "id": "ehnxLiX9mQUq",
        "colab_type": "code",
        "colab": {
          "base_uri": "https://localhost:8080/",
          "height": 117
        },
        "outputId": "cf095c60-f8e3-4b86-8de3-90301f98dfbf"
      },
      "source": [
        "# Measure final testing accuracy\n",
        "print(confusion_matrix(gender_test,y_predict))\n",
        "recall=recall_score(gender_test,y_predict,average='macro')\n",
        "precision=precision_score(gender_test,y_predict,average='macro')\n",
        "f1score=f1_score(gender_test,y_predict,average='macro')\n",
        "accuracy=accuracy_score(gender_test,y_predict)\n",
        "print('Accuracy: '+ str(accuracy))\n",
        "print('Macro Precision: '+ str(precision))\n",
        "print('Macro Recall: '+ str(recall))\n",
        "print('Macro F1 score:'+ str(f1score))"
      ],
      "execution_count": null,
      "outputs": [
        {
          "output_type": "stream",
          "text": [
            "[[203  49]\n",
            " [ 43 205]]\n",
            "Accuracy: 0.816\n",
            "Macro Precision: 0.8161449331028743\n",
            "Macro Recall: 0.816084229390681\n",
            "Macro F1 score:0.8159970559528953\n"
          ],
          "name": "stdout"
        }
      ]
    },
    {
      "cell_type": "code",
      "metadata": {
        "colab_type": "code",
        "id": "B6iaNbiZ7Vfa",
        "colab": {}
      },
      "source": [
        "# One-hot encode the predictions (1: male, 2: female)\n",
        "y_predict = pd.factorize(y_predict, sort=True)[0]"
      ],
      "execution_count": null,
      "outputs": []
    },
    {
      "cell_type": "code",
      "metadata": {
        "colab_type": "code",
        "id": "Bt5Xsmub7Vfc",
        "colab": {}
      },
      "source": [
        "# Create a dataframe with id and prediction\n",
        "df = pd.DataFrame({'id' : testId, 'gender' : y_predict})"
      ],
      "execution_count": null,
      "outputs": []
    },
    {
      "cell_type": "code",
      "metadata": {
        "colab_type": "code",
        "id": "lPDo6ULL7Vfe",
        "colab": {}
      },
      "source": [
        "# Save Logistic Regression prediction as final submission file\n",
        "df.to_csv(\"pred_labels.csv\", index=False)"
      ],
      "execution_count": null,
      "outputs": []
    },
    {
      "cell_type": "markdown",
      "metadata": {
        "id": "_fA6BdD8mQUs",
        "colab_type": "text"
      },
      "source": [
        "<a name=5.4></a>\n",
        "### XGBoost Model"
      ]
    },
    {
      "cell_type": "code",
      "metadata": {
        "id": "wOm3GOMwmQUs",
        "colab_type": "code",
        "colab": {}
      },
      "source": [
        "# Define linear SVC model\n",
        "xg_model = xgboost.XGBClassifier()"
      ],
      "execution_count": null,
      "outputs": []
    },
    {
      "cell_type": "code",
      "metadata": {
        "id": "ZdVk9ImNmQUv",
        "colab_type": "code",
        "colab": {
          "base_uri": "https://localhost:8080/",
          "height": 133
        },
        "outputId": "bbd809b1-7ec8-4dd0-91f1-a3a3ed2e5e24"
      },
      "source": [
        "# Train model on whole train dataset\n",
        "xg_model.fit(train, gender_train)"
      ],
      "execution_count": null,
      "outputs": [
        {
          "output_type": "execute_result",
          "data": {
            "text/plain": [
              "XGBClassifier(base_score=0.5, booster='gbtree', colsample_bylevel=1,\n",
              "              colsample_bynode=1, colsample_bytree=1, gamma=0,\n",
              "              learning_rate=0.1, max_delta_step=0, max_depth=3,\n",
              "              min_child_weight=1, missing=None, n_estimators=100, n_jobs=1,\n",
              "              nthread=None, objective='binary:logistic', random_state=0,\n",
              "              reg_alpha=0, reg_lambda=1, scale_pos_weight=1, seed=None,\n",
              "              silent=None, subsample=1, verbosity=1)"
            ]
          },
          "metadata": {
            "tags": []
          },
          "execution_count": 37
        }
      ]
    },
    {
      "cell_type": "code",
      "metadata": {
        "id": "gU-wPtVImQUw",
        "colab_type": "code",
        "colab": {}
      },
      "source": [
        "# Make prediction \n",
        "y_predict = xg_model.predict(test)"
      ],
      "execution_count": null,
      "outputs": []
    },
    {
      "cell_type": "code",
      "metadata": {
        "id": "RzlI3v_imQUx",
        "colab_type": "code",
        "colab": {
          "base_uri": "https://localhost:8080/",
          "height": 117
        },
        "outputId": "ed875177-8a4e-4f5c-93cf-89048e59f99e"
      },
      "source": [
        "# Measure final testing accuracy\n",
        "print(confusion_matrix(gender_test,y_predict))\n",
        "recall=recall_score(gender_test,y_predict,average='macro')\n",
        "precision=precision_score(gender_test,y_predict,average='macro')\n",
        "f1score=f1_score(gender_test,y_predict,average='macro')\n",
        "accuracy=accuracy_score(gender_test,y_predict)\n",
        "print('Accuracy: '+ str(accuracy))\n",
        "print('Macro Precision: '+ str(precision))\n",
        "print('Macro Recall: '+ str(recall))\n",
        "print('Macro F1 score:'+ str(f1score))"
      ],
      "execution_count": null,
      "outputs": [
        {
          "output_type": "stream",
          "text": [
            "[[185  67]\n",
            " [ 59 189]]\n",
            "Accuracy: 0.748\n",
            "Macro Precision: 0.7482389856557377\n",
            "Macro Recall: 0.7481118791602662\n",
            "Macro F1 score:0.7479838709677419\n"
          ],
          "name": "stdout"
        }
      ]
    }
  ]
}
